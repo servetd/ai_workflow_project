{
 "cells": [
  {
   "cell_type": "markdown",
   "metadata": {},
   "source": [
    "# Capstone Project Part-1\n"
   ]
  },
  {
   "cell_type": "markdown",
   "metadata": {},
   "source": [
    "## Creation a python script to extract relevant data from multiple data sources, automating the process of data ingestion."
   ]
  },
  {
   "cell_type": "code",
   "execution_count": 1,
   "metadata": {},
   "outputs": [],
   "source": [
    "import re, io\n",
    "import os, json\n",
    "import pandas as pd\n",
    "import numpy as np\n",
    "import missingno as msno\n",
    "from IPython.display import Image\n",
    "import matplotlib.pyplot as plt\n",
    "import seaborn as sns\n",
    "\n",
    "plt.style.use('seaborn')\n",
    "%matplotlib inline\n",
    "DATA_DIR = os.path.join(\"..\", \"data/cs-train\")"
   ]
  },
  {
   "cell_type": "code",
   "execution_count": 2,
   "metadata": {},
   "outputs": [
    {
     "data": {
      "text/html": [
       "<div>\n",
       "<style scoped>\n",
       "    .dataframe tbody tr th:only-of-type {\n",
       "        vertical-align: middle;\n",
       "    }\n",
       "\n",
       "    .dataframe tbody tr th {\n",
       "        vertical-align: top;\n",
       "    }\n",
       "\n",
       "    .dataframe thead th {\n",
       "        text-align: right;\n",
       "    }\n",
       "</style>\n",
       "<table border=\"1\" class=\"dataframe\">\n",
       "  <thead>\n",
       "    <tr style=\"text-align: right;\">\n",
       "      <th></th>\n",
       "      <th>date</th>\n",
       "      <th>price</th>\n",
       "      <th>times_viewed</th>\n",
       "      <th>stream_id</th>\n",
       "      <th>country</th>\n",
       "      <th>customer_id</th>\n",
       "      <th>invoice</th>\n",
       "      <th>year</th>\n",
       "      <th>month</th>\n",
       "      <th>day</th>\n",
       "    </tr>\n",
       "  </thead>\n",
       "  <tbody>\n",
       "    <tr>\n",
       "      <th>0</th>\n",
       "      <td>2017-11-28</td>\n",
       "      <td>6.95</td>\n",
       "      <td>12</td>\n",
       "      <td>85048</td>\n",
       "      <td>United Kingdom</td>\n",
       "      <td>13085.0</td>\n",
       "      <td>489434</td>\n",
       "      <td>2017</td>\n",
       "      <td>11</td>\n",
       "      <td>28</td>\n",
       "    </tr>\n",
       "    <tr>\n",
       "      <th>1</th>\n",
       "      <td>2017-11-28</td>\n",
       "      <td>8.65</td>\n",
       "      <td>1</td>\n",
       "      <td>22130</td>\n",
       "      <td>United Kingdom</td>\n",
       "      <td>NaN</td>\n",
       "      <td>489597</td>\n",
       "      <td>2017</td>\n",
       "      <td>11</td>\n",
       "      <td>28</td>\n",
       "    </tr>\n",
       "    <tr>\n",
       "      <th>2</th>\n",
       "      <td>2017-11-28</td>\n",
       "      <td>1.70</td>\n",
       "      <td>6</td>\n",
       "      <td>22132</td>\n",
       "      <td>United Kingdom</td>\n",
       "      <td>NaN</td>\n",
       "      <td>489597</td>\n",
       "      <td>2017</td>\n",
       "      <td>11</td>\n",
       "      <td>28</td>\n",
       "    </tr>\n",
       "    <tr>\n",
       "      <th>3</th>\n",
       "      <td>2017-11-28</td>\n",
       "      <td>1.70</td>\n",
       "      <td>4</td>\n",
       "      <td>22133</td>\n",
       "      <td>United Kingdom</td>\n",
       "      <td>NaN</td>\n",
       "      <td>489597</td>\n",
       "      <td>2017</td>\n",
       "      <td>11</td>\n",
       "      <td>28</td>\n",
       "    </tr>\n",
       "    <tr>\n",
       "      <th>4</th>\n",
       "      <td>2017-11-28</td>\n",
       "      <td>0.87</td>\n",
       "      <td>1</td>\n",
       "      <td>22134</td>\n",
       "      <td>United Kingdom</td>\n",
       "      <td>NaN</td>\n",
       "      <td>489597</td>\n",
       "      <td>2017</td>\n",
       "      <td>11</td>\n",
       "      <td>28</td>\n",
       "    </tr>\n",
       "  </tbody>\n",
       "</table>\n",
       "</div>"
      ],
      "text/plain": [
       "        date  price  times_viewed stream_id         country customer_id  \\\n",
       "0 2017-11-28   6.95            12     85048  United Kingdom     13085.0   \n",
       "1 2017-11-28   8.65             1     22130  United Kingdom         NaN   \n",
       "2 2017-11-28   1.70             6     22132  United Kingdom         NaN   \n",
       "3 2017-11-28   1.70             4     22133  United Kingdom         NaN   \n",
       "4 2017-11-28   0.87             1     22134  United Kingdom         NaN   \n",
       "\n",
       "  invoice  year  month  day  \n",
       "0  489434  2017     11   28  \n",
       "1  489597  2017     11   28  \n",
       "2  489597  2017     11   28  \n",
       "3  489597  2017     11   28  \n",
       "4  489597  2017     11   28  "
      ]
     },
     "execution_count": 2,
     "metadata": {},
     "output_type": "execute_result"
    }
   ],
   "source": [
    "df = pd.DataFrame()\n",
    "\n",
    "data_filenames = [f for f in os.listdir(DATA_DIR) if os.path.isfile(os.path.join(DATA_DIR, f))]\n",
    "data_filenames = sorted(data_filenames)\n",
    "\n",
    "for filename in data_filenames:\n",
    "    invoice_filename = os.path.join(DATA_DIR, filename)\n",
    "    invoice_df = pd.read_json(invoice_filename)\n",
    "    \n",
    "    # Rename column names where applicable\n",
    "    invoice_df = invoice_df.rename(columns={\n",
    "        'total_price': 'price',\n",
    "        'StreamID': 'stream_id',\n",
    "        'TimesViewed': 'times_viewed'\n",
    "    })\n",
    "    \n",
    "    df = df.append(invoice_df)\n",
    "\n",
    "\n",
    "# Convert year, month, day to a datetime column\n",
    "df[\"date\"] = pd.to_datetime((df[\"year\"]*10000+df[\"month\"]*100+df.day).apply(str),format='%Y%m%d')\n",
    "\n",
    "# Set country to a categorical type\n",
    "df['country'] = df['country'].astype('category')\n",
    "df['invoice'] = df['invoice'].astype('category')\n",
    "df['customer_id'] = df['customer_id'].astype('category')\n",
    "df['stream_id'] = df['stream_id'].astype('category')\n",
    "\n",
    "# Reorder columns\n",
    "df = df[['date', 'price', 'times_viewed', 'stream_id', 'country', 'customer_id', 'invoice', 'year', 'month', 'day']]\n",
    "\n",
    "   \n",
    "df.head()"
   ]
  },
  {
   "cell_type": "code",
   "execution_count": 3,
   "metadata": {},
   "outputs": [
    {
     "data": {
      "image/png": "[encoded data removed]",
      "text/plain": [
       "<Figure size 1800x720 with 2 Axes>"
      ]
     },
     "metadata": {
      "needs_background": "light"
     },
     "output_type": "display_data"
    }
   ],
   "source": [
    "msno.matrix(df)\n",
    "plt.show()"
   ]
  },
  {
   "cell_type": "code",
   "execution_count": 4,
   "metadata": {},
   "outputs": [
    {
     "data": {
      "text/plain": [
       "537434     1350\n",
       "538071     1304\n",
       "537638     1202\n",
       "537237     1194\n",
       "536876     1186\n",
       "           ... \n",
       "C502603       1\n",
       "517391        1\n",
       "544104        1\n",
       "C502626       1\n",
       "507276        1\n",
       "Name: invoice, Length: 42646, dtype: int64"
      ]
     },
     "execution_count": 4,
     "metadata": {},
     "output_type": "execute_result"
    }
   ],
   "source": [
    "df['invoice'].value_counts()"
   ]
  },
  {
   "cell_type": "code",
   "execution_count": 5,
   "metadata": {},
   "outputs": [
    {
     "name": "stderr",
     "output_type": "stream",
     "text": [
      "/Users/akademik/opt/anaconda3/lib/python3.8/site-packages/seaborn/distributions.py:2551: FutureWarning: `distplot` is a deprecated function and will be removed in a future version. Please adapt your code to use either `displot` (a figure-level function with similar flexibility) or `histplot` (an axes-level function for histograms).\n",
      "  warnings.warn(msg, FutureWarning)\n"
     ]
    },
    {
     "data": {
      "image/png": "[encoded data removed]",
      "text/plain": [
       "<Figure size 432x288 with 1 Axes>"
      ]
     },
     "metadata": {
      "needs_background": "light"
     },
     "output_type": "display_data"
    }
   ],
   "source": [
    "sns.distplot(df['price'], bins=10);"
   ]
  },
  {
   "cell_type": "code",
   "execution_count": 6,
   "metadata": {},
   "outputs": [
    {
     "data": {
      "image/png": "[encoded data removed]",
      "text/plain": [
       "<Figure size 360x360 with 1 Axes>"
      ]
     },
     "metadata": {
      "needs_background": "light"
     },
     "output_type": "display_data"
    }
   ],
   "source": [
    "\n",
    "g = sns.relplot(x='date', y='price', data=df.groupby(pd.Grouper(key='date', freq='B')).sum().reset_index(), kind='line')\n",
    "g.fig.autofmt_xdate();"
   ]
  },
  {
   "cell_type": "markdown",
   "metadata": {},
   "source": [
    "## Top 10 countries in terms of revenue"
   ]
  },
  {
   "cell_type": "code",
   "execution_count": 7,
   "metadata": {},
   "outputs": [
    {
     "data": {
      "text/plain": [
       "country\n",
       "United Kingdom    3.521514e+06\n",
       "EIRE              1.070692e+05\n",
       "Germany           4.927182e+04\n",
       "France            4.056514e+04\n",
       "Norway            3.849475e+04\n",
       "Spain             1.604099e+04\n",
       "Hong Kong         1.445257e+04\n",
       "Portugal          1.352867e+04\n",
       "Singapore         1.317592e+04\n",
       "Netherlands       1.232280e+04\n",
       "Name: price, dtype: float64"
      ]
     },
     "execution_count": 7,
     "metadata": {},
     "output_type": "execute_result"
    }
   ],
   "source": [
    "# List of countries in terms of revenue\n",
    "grouped = df.groupby(['country'])['price'].sum()\n",
    "# Top 10 countries from sorted list of countries in decreasing order\n",
    "top_10 = grouped.sort_values(ascending=False)[0:10]\n",
    "top_10"
   ]
  },
  {
   "cell_type": "code",
   "execution_count": 8,
   "metadata": {},
   "outputs": [
    {
     "data": {
      "text/plain": [
       "(797867, 10)"
      ]
     },
     "execution_count": 8,
     "metadata": {},
     "output_type": "execute_result"
    }
   ],
   "source": [
    "list_top_10 = ['United Kingdom', 'EIRE', 'Germany', 'France',\n",
    "               'Norway', 'Spain', 'Hong Kong', 'Portugal',\n",
    "               'Singapore', 'Netherlands']\n",
    "df_top_10 = df[df['country'].isin(list_top_10)]\n",
    "df_top_10.shape"
   ]
  },
  {
   "cell_type": "code",
   "execution_count": 9,
   "metadata": {},
   "outputs": [
    {
     "data": {
      "text/html": [
       "<div>\n",
       "<style scoped>\n",
       "    .dataframe tbody tr th:only-of-type {\n",
       "        vertical-align: middle;\n",
       "    }\n",
       "\n",
       "    .dataframe tbody tr th {\n",
       "        vertical-align: top;\n",
       "    }\n",
       "\n",
       "    .dataframe thead th {\n",
       "        text-align: right;\n",
       "    }\n",
       "</style>\n",
       "<table border=\"1\" class=\"dataframe\">\n",
       "  <thead>\n",
       "    <tr style=\"text-align: right;\">\n",
       "      <th></th>\n",
       "      <th>date</th>\n",
       "      <th>price</th>\n",
       "      <th>times_viewed</th>\n",
       "      <th>stream_id</th>\n",
       "      <th>country</th>\n",
       "      <th>customer_id</th>\n",
       "      <th>invoice</th>\n",
       "      <th>year</th>\n",
       "      <th>month</th>\n",
       "      <th>day</th>\n",
       "    </tr>\n",
       "  </thead>\n",
       "  <tbody>\n",
       "    <tr>\n",
       "      <th>0</th>\n",
       "      <td>2017-11-28</td>\n",
       "      <td>6.95</td>\n",
       "      <td>12</td>\n",
       "      <td>85048</td>\n",
       "      <td>United Kingdom</td>\n",
       "      <td>13085.0</td>\n",
       "      <td>489434</td>\n",
       "      <td>2017</td>\n",
       "      <td>11</td>\n",
       "      <td>28</td>\n",
       "    </tr>\n",
       "    <tr>\n",
       "      <th>1</th>\n",
       "      <td>2017-11-28</td>\n",
       "      <td>8.65</td>\n",
       "      <td>1</td>\n",
       "      <td>22130</td>\n",
       "      <td>United Kingdom</td>\n",
       "      <td>NaN</td>\n",
       "      <td>489597</td>\n",
       "      <td>2017</td>\n",
       "      <td>11</td>\n",
       "      <td>28</td>\n",
       "    </tr>\n",
       "    <tr>\n",
       "      <th>2</th>\n",
       "      <td>2017-11-28</td>\n",
       "      <td>1.70</td>\n",
       "      <td>6</td>\n",
       "      <td>22132</td>\n",
       "      <td>United Kingdom</td>\n",
       "      <td>NaN</td>\n",
       "      <td>489597</td>\n",
       "      <td>2017</td>\n",
       "      <td>11</td>\n",
       "      <td>28</td>\n",
       "    </tr>\n",
       "    <tr>\n",
       "      <th>3</th>\n",
       "      <td>2017-11-28</td>\n",
       "      <td>1.70</td>\n",
       "      <td>4</td>\n",
       "      <td>22133</td>\n",
       "      <td>United Kingdom</td>\n",
       "      <td>NaN</td>\n",
       "      <td>489597</td>\n",
       "      <td>2017</td>\n",
       "      <td>11</td>\n",
       "      <td>28</td>\n",
       "    </tr>\n",
       "    <tr>\n",
       "      <th>4</th>\n",
       "      <td>2017-11-28</td>\n",
       "      <td>0.87</td>\n",
       "      <td>1</td>\n",
       "      <td>22134</td>\n",
       "      <td>United Kingdom</td>\n",
       "      <td>NaN</td>\n",
       "      <td>489597</td>\n",
       "      <td>2017</td>\n",
       "      <td>11</td>\n",
       "      <td>28</td>\n",
       "    </tr>\n",
       "  </tbody>\n",
       "</table>\n",
       "</div>"
      ],
      "text/plain": [
       "        date  price  times_viewed stream_id         country customer_id  \\\n",
       "0 2017-11-28   6.95            12     85048  United Kingdom     13085.0   \n",
       "1 2017-11-28   8.65             1     22130  United Kingdom         NaN   \n",
       "2 2017-11-28   1.70             6     22132  United Kingdom         NaN   \n",
       "3 2017-11-28   1.70             4     22133  United Kingdom         NaN   \n",
       "4 2017-11-28   0.87             1     22134  United Kingdom         NaN   \n",
       "\n",
       "  invoice  year  month  day  \n",
       "0  489434  2017     11   28  \n",
       "1  489597  2017     11   28  \n",
       "2  489597  2017     11   28  \n",
       "3  489597  2017     11   28  \n",
       "4  489597  2017     11   28  "
      ]
     },
     "execution_count": 9,
     "metadata": {},
     "output_type": "execute_result"
    }
   ],
   "source": [
    "df_top_10.head()"
   ]
  },
  {
   "cell_type": "code",
   "execution_count": 10,
   "metadata": {},
   "outputs": [
    {
     "data": {
      "image/png": "[encoded data removed]",
      "text/plain": [
       "<Figure size 1440x576 with 1 Axes>"
      ]
     },
     "metadata": {
      "needs_background": "light"
     },
     "output_type": "display_data"
    }
   ],
   "source": [
    "fig = plt.figure(figsize=(20,8))\n",
    "ax2 = fig.add_subplot(121)\n",
    "\n",
    "table2 = pd.pivot_table(df_top_10, index = ['country'], values = 'price')\n",
    "table2.plot(kind='barh',ax=ax2)\n",
    "ax2.set_xlabel(\"Price\");"
   ]
  },
  {
   "cell_type": "code",
   "execution_count": 11,
   "metadata": {},
   "outputs": [
    {
     "data": {
      "text/html": [
       "<div>\n",
       "<style scoped>\n",
       "    .dataframe tbody tr th:only-of-type {\n",
       "        vertical-align: middle;\n",
       "    }\n",
       "\n",
       "    .dataframe tbody tr th {\n",
       "        vertical-align: top;\n",
       "    }\n",
       "\n",
       "    .dataframe thead th {\n",
       "        text-align: right;\n",
       "    }\n",
       "</style>\n",
       "<table border=\"1\" class=\"dataframe\">\n",
       "  <thead>\n",
       "    <tr style=\"text-align: right;\">\n",
       "      <th></th>\n",
       "      <th>country</th>\n",
       "      <th>revenue</th>\n",
       "    </tr>\n",
       "  </thead>\n",
       "  <tbody>\n",
       "    <tr>\n",
       "      <th>0</th>\n",
       "      <td>United Kingdom</td>\n",
       "      <td>3.521514e+06</td>\n",
       "    </tr>\n",
       "    <tr>\n",
       "      <th>1</th>\n",
       "      <td>EIRE</td>\n",
       "      <td>1.070692e+05</td>\n",
       "    </tr>\n",
       "    <tr>\n",
       "      <th>2</th>\n",
       "      <td>Germany</td>\n",
       "      <td>4.927182e+04</td>\n",
       "    </tr>\n",
       "    <tr>\n",
       "      <th>3</th>\n",
       "      <td>France</td>\n",
       "      <td>4.056514e+04</td>\n",
       "    </tr>\n",
       "    <tr>\n",
       "      <th>4</th>\n",
       "      <td>Norway</td>\n",
       "      <td>3.849475e+04</td>\n",
       "    </tr>\n",
       "    <tr>\n",
       "      <th>5</th>\n",
       "      <td>Spain</td>\n",
       "      <td>1.604099e+04</td>\n",
       "    </tr>\n",
       "    <tr>\n",
       "      <th>6</th>\n",
       "      <td>Hong Kong</td>\n",
       "      <td>1.445257e+04</td>\n",
       "    </tr>\n",
       "    <tr>\n",
       "      <th>7</th>\n",
       "      <td>Portugal</td>\n",
       "      <td>1.352867e+04</td>\n",
       "    </tr>\n",
       "    <tr>\n",
       "      <th>8</th>\n",
       "      <td>Singapore</td>\n",
       "      <td>1.317592e+04</td>\n",
       "    </tr>\n",
       "    <tr>\n",
       "      <th>9</th>\n",
       "      <td>Netherlands</td>\n",
       "      <td>1.232280e+04</td>\n",
       "    </tr>\n",
       "  </tbody>\n",
       "</table>\n",
       "</div>"
      ],
      "text/plain": [
       "          country       revenue\n",
       "0  United Kingdom  3.521514e+06\n",
       "1            EIRE  1.070692e+05\n",
       "2         Germany  4.927182e+04\n",
       "3          France  4.056514e+04\n",
       "4          Norway  3.849475e+04\n",
       "5           Spain  1.604099e+04\n",
       "6       Hong Kong  1.445257e+04\n",
       "7        Portugal  1.352867e+04\n",
       "8       Singapore  1.317592e+04\n",
       "9     Netherlands  1.232280e+04"
      ]
     },
     "execution_count": 11,
     "metadata": {},
     "output_type": "execute_result"
    }
   ],
   "source": [
    "revenue_by_country = df_top_10[['country', 'price']].groupby('country').sum().sort_values('price', ascending=False)\n",
    "revenue_by_country = revenue_by_country.rename(columns={'price': 'revenue'})\n",
    "revenue_by_country = revenue_by_country.reset_index()\n",
    "revenue_by_country.head(10)"
   ]
  },
  {
   "cell_type": "code",
   "execution_count": 12,
   "metadata": {},
   "outputs": [
    {
     "data": {
      "image/png": "[encoded data removed]",
      "text/plain": [
       "<Figure size 432x288 with 1 Axes>"
      ]
     },
     "metadata": {
      "needs_background": "light"
     },
     "output_type": "display_data"
    }
   ],
   "source": [
    "# Total Revenue for top 10 Country\n",
    "sns.barplot(y=list_top_10, x=\"revenue\", data=revenue_by_country.head(10))\n",
    "plt.show()"
   ]
  },
  {
   "cell_type": "code",
   "execution_count": 13,
   "metadata": {},
   "outputs": [
    {
     "data": {
      "text/plain": [
       "United Kingdom          751228\n",
       "EIRE                     13577\n",
       "Germany                  13336\n",
       "France                    9899\n",
       "Netherlands               4024\n",
       "Spain                     2606\n",
       "Switzerland               2326\n",
       "Belgium                   2166\n",
       "Portugal                  1815\n",
       "Australia                 1543\n",
       "Channel Islands           1287\n",
       "Sweden                    1156\n",
       "Italy                     1049\n",
       "Cyprus                     907\n",
       "Norway                     796\n",
       "Finland                    749\n",
       "Austria                    719\n",
       "Denmark                    629\n",
       "Greece                     627\n",
       "Unspecified                614\n",
       "Japan                      514\n",
       "United Arab Emirates       462\n",
       "Poland                     429\n",
       "Singapore                  310\n",
       "Hong Kong                  276\n",
       "USA                        266\n",
       "Canada                     223\n",
       "Malta                      219\n",
       "Iceland                    195\n",
       "Lithuania                  189\n",
       "Israel                     139\n",
       "Bahrain                    126\n",
       "RSA                        111\n",
       "Brazil                      94\n",
       "Thailand                    76\n",
       "Korea                       63\n",
       "European Community          61\n",
       "Lebanon                     58\n",
       "West Indies                 54\n",
       "Bermuda                     34\n",
       "Nigeria                     32\n",
       "Czech Republic              17\n",
       "Saudi Arabia                10\n",
       "Name: country, dtype: int64"
      ]
     },
     "execution_count": 13,
     "metadata": {},
     "output_type": "execute_result"
    }
   ],
   "source": [
    "df['country'].value_counts()"
   ]
  },
  {
   "cell_type": "markdown",
   "metadata": {},
   "source": [
    "## Time Series forecasting data preparation:\n",
    "In order to carry out a time series analysis, record of each day should be considered and the dataframe should be in a chronological order so that forecasting models can fit and provide revenue i.e price for the following month. Let's start by aggregating the transactions by day"
   ]
  },
  {
   "cell_type": "code",
   "execution_count": 14,
   "metadata": {},
   "outputs": [
    {
     "data": {
      "text/html": [
       "<div>\n",
       "<style scoped>\n",
       "    .dataframe tbody tr th:only-of-type {\n",
       "        vertical-align: middle;\n",
       "    }\n",
       "\n",
       "    .dataframe tbody tr th {\n",
       "        vertical-align: top;\n",
       "    }\n",
       "\n",
       "    .dataframe thead th {\n",
       "        text-align: right;\n",
       "    }\n",
       "</style>\n",
       "<table border=\"1\" class=\"dataframe\">\n",
       "  <thead>\n",
       "    <tr style=\"text-align: right;\">\n",
       "      <th></th>\n",
       "      <th>year</th>\n",
       "      <th>month</th>\n",
       "      <th>day</th>\n",
       "      <th>times_viewed</th>\n",
       "      <th>price</th>\n",
       "      <th>country</th>\n",
       "    </tr>\n",
       "  </thead>\n",
       "  <tbody>\n",
       "    <tr>\n",
       "      <th>0</th>\n",
       "      <td>2017</td>\n",
       "      <td>11</td>\n",
       "      <td>28</td>\n",
       "      <td>14948</td>\n",
       "      <td>14139.14</td>\n",
       "      <td>United Kingdom</td>\n",
       "    </tr>\n",
       "    <tr>\n",
       "      <th>1</th>\n",
       "      <td>2017</td>\n",
       "      <td>11</td>\n",
       "      <td>29</td>\n",
       "      <td>14135</td>\n",
       "      <td>13396.92</td>\n",
       "      <td>United Kingdom</td>\n",
       "    </tr>\n",
       "    <tr>\n",
       "      <th>2</th>\n",
       "      <td>2017</td>\n",
       "      <td>11</td>\n",
       "      <td>30</td>\n",
       "      <td>15560</td>\n",
       "      <td>13250.07</td>\n",
       "      <td>United Kingdom</td>\n",
       "    </tr>\n",
       "    <tr>\n",
       "      <th>3</th>\n",
       "      <td>2017</td>\n",
       "      <td>12</td>\n",
       "      <td>1</td>\n",
       "      <td>12180</td>\n",
       "      <td>9517.35</td>\n",
       "      <td>United Kingdom</td>\n",
       "    </tr>\n",
       "    <tr>\n",
       "      <th>4</th>\n",
       "      <td>2017</td>\n",
       "      <td>12</td>\n",
       "      <td>2</td>\n",
       "      <td>3101</td>\n",
       "      <td>1263.28</td>\n",
       "      <td>United Kingdom</td>\n",
       "    </tr>\n",
       "  </tbody>\n",
       "</table>\n",
       "</div>"
      ],
      "text/plain": [
       "   year  month  day  times_viewed     price         country\n",
       "0  2017     11   28         14948  14139.14  United Kingdom\n",
       "1  2017     11   29         14135  13396.92  United Kingdom\n",
       "2  2017     11   30         15560  13250.07  United Kingdom\n",
       "3  2017     12    1         12180   9517.35  United Kingdom\n",
       "4  2017     12    2          3101   1263.28  United Kingdom"
      ]
     },
     "execution_count": 14,
     "metadata": {},
     "output_type": "execute_result"
    }
   ],
   "source": [
    "df_day = df_top_10.groupby(['year', 'month', 'day']).agg({'times_viewed':'sum', 'price':'sum',\n",
    "                                        'country':'first',}).reset_index()\n",
    "df_day.head()"
   ]
  },
  {
   "cell_type": "code",
   "execution_count": 15,
   "metadata": {},
   "outputs": [
    {
     "data": {
      "text/html": [
       "<div>\n",
       "<style scoped>\n",
       "    .dataframe tbody tr th:only-of-type {\n",
       "        vertical-align: middle;\n",
       "    }\n",
       "\n",
       "    .dataframe tbody tr th {\n",
       "        vertical-align: top;\n",
       "    }\n",
       "\n",
       "    .dataframe thead th {\n",
       "        text-align: right;\n",
       "    }\n",
       "</style>\n",
       "<table border=\"1\" class=\"dataframe\">\n",
       "  <thead>\n",
       "    <tr style=\"text-align: right;\">\n",
       "      <th></th>\n",
       "      <th>year</th>\n",
       "      <th>month</th>\n",
       "      <th>times_viewed</th>\n",
       "      <th>price</th>\n",
       "      <th>country</th>\n",
       "    </tr>\n",
       "  </thead>\n",
       "  <tbody>\n",
       "    <tr>\n",
       "      <th>0</th>\n",
       "      <td>2017</td>\n",
       "      <td>11</td>\n",
       "      <td>44643</td>\n",
       "      <td>40786.130</td>\n",
       "      <td>United Kingdom</td>\n",
       "    </tr>\n",
       "    <tr>\n",
       "      <th>1</th>\n",
       "      <td>2017</td>\n",
       "      <td>12</td>\n",
       "      <td>162013</td>\n",
       "      <td>155261.270</td>\n",
       "      <td>United Kingdom</td>\n",
       "    </tr>\n",
       "    <tr>\n",
       "      <th>2</th>\n",
       "      <td>2018</td>\n",
       "      <td>1</td>\n",
       "      <td>171367</td>\n",
       "      <td>179414.574</td>\n",
       "      <td>United Kingdom</td>\n",
       "    </tr>\n",
       "    <tr>\n",
       "      <th>3</th>\n",
       "      <td>2018</td>\n",
       "      <td>2</td>\n",
       "      <td>152786</td>\n",
       "      <td>110754.984</td>\n",
       "      <td>United Kingdom</td>\n",
       "    </tr>\n",
       "    <tr>\n",
       "      <th>4</th>\n",
       "      <td>2018</td>\n",
       "      <td>3</td>\n",
       "      <td>196848</td>\n",
       "      <td>254449.841</td>\n",
       "      <td>United Kingdom</td>\n",
       "    </tr>\n",
       "  </tbody>\n",
       "</table>\n",
       "</div>"
      ],
      "text/plain": [
       "   year  month  times_viewed       price         country\n",
       "0  2017     11         44643   40786.130  United Kingdom\n",
       "1  2017     12        162013  155261.270  United Kingdom\n",
       "2  2018      1        171367  179414.574  United Kingdom\n",
       "3  2018      2        152786  110754.984  United Kingdom\n",
       "4  2018      3        196848  254449.841  United Kingdom"
      ]
     },
     "execution_count": 15,
     "metadata": {},
     "output_type": "execute_result"
    }
   ],
   "source": [
    "df_month = df_top_10.groupby(['year', 'month']).agg({'times_viewed':'sum', 'price':'sum',\n",
    "                                        'country':'first',}).reset_index()\n",
    "df_month.head()"
   ]
  },
  {
   "cell_type": "code",
   "execution_count": 16,
   "metadata": {},
   "outputs": [
    {
     "data": {
      "text/plain": [
       "<AxesSubplot:>"
      ]
     },
     "execution_count": 16,
     "metadata": {},
     "output_type": "execute_result"
    },
    {
     "data": {
      "image/png": "[encoded data removed]",
      "text/plain": [
       "<Figure size 1440x432 with 1 Axes>"
      ]
     },
     "metadata": {
      "needs_background": "light"
     },
     "output_type": "display_data"
    }
   ],
   "source": [
    "# checking stationarity of a time-series on a daily basis\n",
    "ts_day = df_day['price']\n",
    "ts_day.plot(figsize=(20, 6))"
   ]
  },
  {
   "cell_type": "code",
   "execution_count": 17,
   "metadata": {},
   "outputs": [
    {
     "data": {
      "text/plain": [
       "[<matplotlib.lines.Line2D at 0x132c18640>]"
      ]
     },
     "execution_count": 17,
     "metadata": {},
     "output_type": "execute_result"
    },
    {
     "data": {
      "image/png": "[encoded data removed]",
      "text/plain": [
       "<Figure size 432x288 with 1 Axes>"
      ]
     },
     "metadata": {
      "needs_background": "light"
     },
     "output_type": "display_data"
    }
   ],
   "source": [
    "ts_month = df_month['price']\n",
    "plt.plot(ts_month)"
   ]
  },
  {
   "cell_type": "code",
   "execution_count": null,
   "metadata": {},
   "outputs": [],
   "source": []
  }
 ],
 "metadata": {
  "kernelspec": {
   "display_name": "Python 3",
   "language": "python",
   "name": "python3"
  },
  "language_info": {
   "codemirror_mode": {
    "name": "ipython",
    "version": 3
   },
   "file_extension": ".py",
   "mimetype": "text/x-python",
   "name": "python",
   "nbconvert_exporter": "python",
   "pygments_lexer": "ipython3",
   "version": "3.8.5"
  }
 },
 "nbformat": 4,
 "nbformat_minor": 4
}
