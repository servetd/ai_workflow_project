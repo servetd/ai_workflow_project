{
 "cells": [
  {
   "cell_type": "markdown",
   "metadata": {},
   "source": [
    "# Timeseries for the capstone project"
   ]
  },
  {
   "cell_type": "code",
   "execution_count": 1,
   "metadata": {},
   "outputs": [
    {
     "name": "stderr",
     "output_type": "stream",
     "text": [
      "Importing plotly failed. Interactive plots will not work.\n"
     ]
    }
   ],
   "source": [
    "# importing related module and function\n",
    "import re, io\n",
    "import os, json\n",
    "import pandas as pd\n",
    "import numpy as np\n",
    "from fbprophet import Prophet\n",
    "from fbprophet.diagnostics import performance_metrics\n",
    "from IPython.display import Image\n",
    "import matplotlib.pyplot as plt\n",
    "import seaborn as sns\n",
    "from time_series import *\n",
    "from pandas._libs.tslibs import *\n",
    "\n",
    "DATA_DIR = os.path.join(\"..\", \"data/cs-train\")\n",
    "\n",
    "plt.style.use('seaborn')\n",
    "%matplotlib inline"
   ]
  },
  {
   "cell_type": "code",
   "execution_count": 4,
   "metadata": {},
   "outputs": [
    {
     "data": {
      "text/html": [
       "<div>\n",
       "<style scoped>\n",
       "    .dataframe tbody tr th:only-of-type {\n",
       "        vertical-align: middle;\n",
       "    }\n",
       "\n",
       "    .dataframe tbody tr th {\n",
       "        vertical-align: top;\n",
       "    }\n",
       "\n",
       "    .dataframe thead th {\n",
       "        text-align: right;\n",
       "    }\n",
       "</style>\n",
       "<table border=\"1\" class=\"dataframe\">\n",
       "  <thead>\n",
       "    <tr style=\"text-align: right;\">\n",
       "      <th></th>\n",
       "      <th>year</th>\n",
       "      <th>month</th>\n",
       "      <th>day</th>\n",
       "      <th>times_viewed</th>\n",
       "      <th>price</th>\n",
       "      <th>country</th>\n",
       "      <th>Date</th>\n",
       "    </tr>\n",
       "  </thead>\n",
       "  <tbody>\n",
       "    <tr>\n",
       "      <th>0</th>\n",
       "      <td>2017</td>\n",
       "      <td>11</td>\n",
       "      <td>28</td>\n",
       "      <td>15018</td>\n",
       "      <td>14450.54</td>\n",
       "      <td>United Kingdom</td>\n",
       "      <td>2017-11-28</td>\n",
       "    </tr>\n",
       "    <tr>\n",
       "      <th>1</th>\n",
       "      <td>2017</td>\n",
       "      <td>11</td>\n",
       "      <td>29</td>\n",
       "      <td>14110</td>\n",
       "      <td>13411.96</td>\n",
       "      <td>United Kingdom</td>\n",
       "      <td>2017-11-29</td>\n",
       "    </tr>\n",
       "    <tr>\n",
       "      <th>2</th>\n",
       "      <td>2017</td>\n",
       "      <td>11</td>\n",
       "      <td>30</td>\n",
       "      <td>15685</td>\n",
       "      <td>13290.25</td>\n",
       "      <td>United Kingdom</td>\n",
       "      <td>2017-11-30</td>\n",
       "    </tr>\n",
       "    <tr>\n",
       "      <th>3</th>\n",
       "      <td>2017</td>\n",
       "      <td>12</td>\n",
       "      <td>1</td>\n",
       "      <td>12505</td>\n",
       "      <td>9687.28</td>\n",
       "      <td>United Kingdom</td>\n",
       "      <td>2017-12-01</td>\n",
       "    </tr>\n",
       "    <tr>\n",
       "      <th>4</th>\n",
       "      <td>2017</td>\n",
       "      <td>12</td>\n",
       "      <td>2</td>\n",
       "      <td>3310</td>\n",
       "      <td>1443.26</td>\n",
       "      <td>United Kingdom</td>\n",
       "      <td>2017-12-02</td>\n",
       "    </tr>\n",
       "  </tbody>\n",
       "</table>\n",
       "</div>"
      ],
      "text/plain": [
       "   year  month  day  times_viewed     price         country       Date\n",
       "0  2017     11   28         15018  14450.54  United Kingdom 2017-11-28\n",
       "1  2017     11   29         14110  13411.96  United Kingdom 2017-11-29\n",
       "2  2017     11   30         15685  13290.25  United Kingdom 2017-11-30\n",
       "3  2017     12    1         12505   9687.28  United Kingdom 2017-12-01\n",
       "4  2017     12    2          3310   1443.26  United Kingdom 2017-12-02"
      ]
     },
     "execution_count": 4,
     "metadata": {},
     "output_type": "execute_result"
    }
   ],
   "source": [
    "df = pd.DataFrame()\n",
    "\n",
    "data_filenames = [f for f in os.listdir(DATA_DIR) if os.path.isfile(os.path.join(DATA_DIR, f))]\n",
    "data_filenames = sorted(data_filenames)\n",
    "\n",
    "for filename in data_filenames:\n",
    "    invoice_filename = os.path.join(DATA_DIR, filename)\n",
    "    invoice_df = pd.read_json(invoice_filename)\n",
    "    \n",
    "    # Rename column names where applicable\n",
    "    invoice_df = invoice_df.rename(columns={\n",
    "        'total_price': 'price',\n",
    "        'StreamID': 'stream_id',\n",
    "        'TimesViewed': 'times_viewed'\n",
    "    })\n",
    "    \n",
    "    df = df.append(invoice_df)\n",
    "\n",
    "\n",
    "# Set country to a categorical type\n",
    "df['country'] = df['country'].astype('category')\n",
    "df['invoice'] = df['invoice'].astype('category')\n",
    "df['customer_id'] = df['customer_id'].astype('category')\n",
    "df['stream_id'] = df['stream_id'].astype('category')\n",
    "# Drop - price error from database\n",
    "df=df[df[\"price\"]>0]\n",
    "df = df.groupby(['year', 'month', 'day']).agg({'times_viewed':'sum', 'price':'sum',\n",
    "                                        'country':'first',}).reset_index()\n",
    "df= create_date_col(df)\n",
    "# Remove outlier\n",
    "df= df[df['price']<=20000]\n",
    "\n",
    "df.head()"
   ]
  },
  {
   "cell_type": "code",
   "execution_count": 5,
   "metadata": {},
   "outputs": [
    {
     "data": {
      "text/plain": [
       "(474, 7)"
      ]
     },
     "execution_count": 5,
     "metadata": {},
     "output_type": "execute_result"
    }
   ],
   "source": []
  },
  {
   "cell_type": "code",
   "execution_count": null,
   "metadata": {},
   "outputs": [],
   "source": []
  }
 ],
 "metadata": {
  "kernelspec": {
   "display_name": "Python 3",
   "language": "python",
   "name": "python3"
  },
  "language_info": {
   "codemirror_mode": {
    "name": "ipython",
    "version": 3
   },
   "file_extension": ".py",
   "mimetype": "text/x-python",
   "name": "python",
   "nbconvert_exporter": "python",
   "pygments_lexer": "ipython3",
   "version": "3.8.5"
  }
 },
 "nbformat": 4,
 "nbformat_minor": 4
}
